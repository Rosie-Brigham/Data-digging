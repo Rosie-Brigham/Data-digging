{
  "nbformat": 4,
  "nbformat_minor": 0,
  "metadata": {
    "colab": {
      "name": "zoo_processexport_lifevison.ipynb",
      "provenance": [],
      "collapsed_sections": []
    },
    "kernelspec": {
      "name": "python3",
      "display_name": "Python 3"
    }
  },
  "cells": [
    {
      "cell_type": "markdown",
      "metadata": {
        "id": "ktSDrtz32A9W",
        "colab_type": "text"
      },
      "source": [
        "# Processing Zooniverse Data Exports\n",
        "Use Case: Two-task workflow -- survey (T0) and text (T1)"
      ]
    },
    {
      "cell_type": "markdown",
      "metadata": {
        "id": "z9KiZZvwMkBh",
        "colab_type": "text"
      },
      "source": [
        "**Instructions**\n",
        "\n",
        "1.   Upload data files using file browser: click on file folder in left sidebar, click on \"Upload\", and select file from your local machine.\n",
        "2.   Edit the `filename_classifications`, `filename_output`, and `columns_out` variables to use your input file and desired output columns.\n",
        "3.   Run the full notebook by selecting the \"Run all\" option from the \"Runtime\" menu.\n",
        "4.   The final step will  automatically download the output CSV file."
      ]
    },
    {
      "cell_type": "markdown",
      "metadata": {
        "id": "WmP-3IAK2sBp",
        "colab_type": "text"
      },
      "source": [
        "### Configuration"
      ]
    },
    {
      "cell_type": "code",
      "metadata": {
        "id": "bNgrHkxB7agH",
        "colab_type": "code",
        "colab": {}
      },
      "source": [
        "filename_classifications = 'future-workflow-wainting-for-approval-classifications.csv'\n",
        "filename_output = 'classifications_flat+trim.csv'"
      ],
      "execution_count": 0,
      "outputs": []
    },
    {
      "cell_type": "code",
      "metadata": {
        "id": "MtrkM9U474rI",
        "colab_type": "code",
        "colab": {}
      },
      "source": [
        "columns_out = ['classification_id', 'created_at', 'user_name', 'user_id',\n",
        "               'workflow_id', 'workflow_version', 'subject_ids', \n",
        "               'taskvalue_text', 'taskvalue_survey']"
      ],
      "execution_count": 0,
      "outputs": []
    },
    {
      "cell_type": "code",
      "metadata": {
        "id": "3l6ZbrEF2hgA",
        "colab_type": "code",
        "colab": {}
      },
      "source": [
        "# Reference: column names to choose from\n",
        "\n",
        "columns_in = ['classification_id', 'user_name', 'user_id', 'user_ip', \n",
        "              'workflow_id','workflow_name', 'workflow_version', 'created_at', \n",
        "              'gold_standard', 'expert', 'metadata', 'annotations', \n",
        "              'subject_data', 'subject_ids']\n",
        "       \n",
        "columns_new = ['metadata_json', 'annotations_json', 'subject_data_json', \n",
        "               'taskvalue_text', 'taskvalue_survey']"
      ],
      "execution_count": 0,
      "outputs": []
    },
    {
      "cell_type": "markdown",
      "metadata": {
        "id": "VvfJC7sL2YAf",
        "colab_type": "text"
      },
      "source": [
        "### Load Data"
      ]
    },
    {
      "cell_type": "code",
      "metadata": {
        "id": "K-czfhfcm8mH",
        "colab_type": "code",
        "colab": {}
      },
      "source": [
        "import pandas as pd\n",
        "import json"
      ],
      "execution_count": 0,
      "outputs": []
    },
    {
      "cell_type": "code",
      "metadata": {
        "id": "imiNtfJ91hTj",
        "colab_type": "code",
        "colab": {}
      },
      "source": [
        "classifications = pd.read_csv(filename_classifications)"
      ],
      "execution_count": 0,
      "outputs": []
    },
    {
      "cell_type": "markdown",
      "metadata": {
        "id": "bMXEURCV121o",
        "colab_type": "text"
      },
      "source": [
        "#### Expanding JSON Fields\n",
        "\n",
        "Converts JSON strings into Python dictionaries, providing access to key-value pairs."
      ]
    },
    {
      "cell_type": "code",
      "metadata": {
        "id": "3rraNmSy17TW",
        "colab_type": "code",
        "colab": {}
      },
      "source": [
        "classifications['metadata_json'] = [json.loads(q) for q in classifications.metadata]\n",
        "classifications['annotations_json'] = [json.loads(q) for q in classifications.annotations]\n",
        "classifications['subject_data_json'] = [json.loads(q) for q in classifications.subject_data]"
      ],
      "execution_count": 0,
      "outputs": []
    },
    {
      "cell_type": "markdown",
      "metadata": {
        "id": "j4P0FmaVuO1v",
        "colab_type": "text"
      },
      "source": [
        "### Flatten Annotations"
      ]
    },
    {
      "cell_type": "code",
      "metadata": {
        "id": "3GJoakV1ZrJW",
        "colab_type": "code",
        "colab": {}
      },
      "source": [
        "taskvalue_survey =[]\n",
        "taskvalue_text = []\n",
        "\n",
        "for i,row in classifications.iterrows():\n",
        "\n",
        "  # Hard-coded to parse two task annotations (T0, T1)\n",
        "  entries = len(row['annotations_json'])\n",
        "  if entries != 2:\n",
        "    raise Exception('Assumes two annotation entries; found {}.'.format(entries))\n",
        "\n",
        "  for t in row['annotations_json']:\n",
        "    # Survey Task = T0\n",
        "    if t['task'] == 'T0':\n",
        "      if len(t['value']) > 0:\n",
        "        taskvalue_survey.append(t['value'][0]['choice'])\n",
        "      else:\n",
        "        taskvalue_survey.append('')\n",
        "    \n",
        "    # Text Task = T1\n",
        "    if t['task'] == 'T1':\n",
        "      taskvalue_text.append(t['value'].rstrip())"
      ],
      "execution_count": 0,
      "outputs": []
    },
    {
      "cell_type": "code",
      "metadata": {
        "id": "GcXAlVNruUlp",
        "colab_type": "code",
        "colab": {}
      },
      "source": [
        "classifications['taskvalue_text'] = taskvalue_text\n",
        "classifications['taskvalue_survey'] = taskvalue_survey"
      ],
      "execution_count": 0,
      "outputs": []
    },
    {
      "cell_type": "markdown",
      "metadata": {
        "id": "ilhytsHb4ktt",
        "colab_type": "text"
      },
      "source": [
        "### Trim Columns & Download File"
      ]
    },
    {
      "cell_type": "code",
      "metadata": {
        "id": "T1P3Ut-l5SHK",
        "colab_type": "code",
        "colab": {}
      },
      "source": [
        "output = classifications[columns_out]\n",
        "output.to_csv(filename_output, index=False)"
      ],
      "execution_count": 0,
      "outputs": []
    },
    {
      "cell_type": "code",
      "metadata": {
        "id": "eR_p1Q_LONgO",
        "colab_type": "code",
        "colab": {}
      },
      "source": [
        "from google.colab import files\n",
        "files.download(filename_output)"
      ],
      "execution_count": 0,
      "outputs": []
    }
  ]
}